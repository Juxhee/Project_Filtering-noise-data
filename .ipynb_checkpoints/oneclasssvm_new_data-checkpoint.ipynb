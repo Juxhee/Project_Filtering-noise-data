{
 "cells": [
  {
   "cell_type": "markdown",
   "metadata": {
    "id": "3PqJ9mPe9ySy"
   },
   "source": [
    "## 라이브러리 설치"
   ]
  },
  {
   "cell_type": "code",
   "execution_count": null,
   "metadata": {
    "colab": {
     "base_uri": "https://localhost:8080/"
    },
    "executionInfo": {
     "elapsed": 9,
     "status": "ok",
     "timestamp": 1636957256188,
     "user": {
      "displayName": "한주희",
      "photoUrl": "https://lh3.googleusercontent.com/a/default-user=s64",
      "userId": "05637717147320400588"
     },
     "user_tz": -540
    },
    "id": "7KEKRmZ7f3Gq",
    "outputId": "68c30b79-10a7-45f8-d263-130117b1106e"
   },
   "outputs": [
    {
     "name": "stdout",
     "output_type": "stream",
     "text": [
      "Drive already mounted at /content/drive; to attempt to forcibly remount, call drive.mount(\"/content/drive\", force_remount=True).\n"
     ]
    }
   ],
   "source": [
    "from google.colab import drive\n",
    "drive.mount('/content/drive')"
   ]
  },
  {
   "cell_type": "code",
   "execution_count": null,
   "metadata": {
    "colab": {
     "base_uri": "https://localhost:8080/"
    },
    "executionInfo": {
     "elapsed": 305,
     "status": "ok",
     "timestamp": 1636957258896,
     "user": {
      "displayName": "한주희",
      "photoUrl": "https://lh3.googleusercontent.com/a/default-user=s64",
      "userId": "05637717147320400588"
     },
     "user_tz": -540
    },
    "id": "naQ0g29Aj8mG",
    "outputId": "8ab23a3b-6030-49c8-b7e9-998d641bec8e"
   },
   "outputs": [
    {
     "name": "stdout",
     "output_type": "stream",
     "text": [
      "/content/drive/MyDrive\n"
     ]
    }
   ],
   "source": [
    "cd /content/drive/MyDrive"
   ]
  },
  {
   "cell_type": "code",
   "execution_count": null,
   "metadata": {},
   "outputs": [],
   "source": [
    "!git clone https://github.com/lovit/customized_konlpy.git\n",
    "!pip install customized_konlpy"
   ]
  },
  {
   "cell_type": "code",
   "execution_count": 2,
   "metadata": {
    "id": "sOrXmUXmzYEB"
   },
   "outputs": [],
   "source": [
    "import json\n",
    "import re\n",
    "import pickle\n",
    "import numpy as np\n",
    "import pandas as pd\n",
    "from sklearn.model_selection import GridSearchCV\n",
    "from sklearn.feature_extraction.text import CountVectorizer\n",
    "from sklearn.feature_extraction.text import TfidfVectorizer\n",
    "from sklearn.feature_extraction.text import TfidfTransformer\n",
    "from sklearn.svm import OneClassSVM\n",
    "from sklearn.metrics import accuracy_score\n",
    "from sklearn.metrics import confusion_matrix \n",
    "from sklearn.metrics import classification_report\n",
    "import ckonlpy\n",
    "from ckonlpy.tag import Twitter\n",
    "from ckonlpy.tag import Postprocessor\n",
    "from ckonlpy.utils import load_wordset"
   ]
  },
  {
   "cell_type": "code",
   "execution_count": 3,
   "metadata": {
    "colab": {
     "base_uri": "https://localhost:8080/"
    },
    "executionInfo": {
     "elapsed": 367,
     "status": "ok",
     "timestamp": 1636957263185,
     "user": {
      "displayName": "한주희",
      "photoUrl": "https://lh3.googleusercontent.com/a/default-user=s64",
      "userId": "05637717147320400588"
     },
     "user_tz": -540
    },
    "id": "-YmywGSD1E0_",
    "outputId": "7a7328b9-c868-478b-eb2e-1f80093e4f4c"
   },
   "outputs": [
    {
     "name": "stderr",
     "output_type": "stream",
     "text": [
      "C:\\Users\\ztor7\\Anaconda3\\lib\\site-packages\\konlpy\\tag\\_okt.py:16: UserWarning: \"Twitter\" has changed to \"Okt\" since KoNLPy v0.4.5.\n",
      "  warn('\"Twitter\" has changed to \"Okt\" since KoNLPy v0.4.5.')\n"
     ]
    }
   ],
   "source": [
    "twitter = ckonlpy.tag.Twitter()"
   ]
  },
  {
   "cell_type": "markdown",
   "metadata": {
    "id": "W0GLQq9qzY96"
   },
   "source": [
    "### Customized Konlpy로 사전에 단어 추가"
   ]
  },
  {
   "cell_type": "code",
   "execution_count": 4,
   "metadata": {
    "id": "MypXTJ0schpD"
   },
   "outputs": [],
   "source": [
    "with open('dictionary.pkl', 'rb') as f:\n",
    "    dict_toadd = pickle.load(f)\n",
    "for i in dict_toadd:\n",
    "    twitter.add_dictionary(i,'Noun')"
   ]
  },
  {
   "cell_type": "code",
   "execution_count": null,
   "metadata": {
    "id": "9FRug3Lle9pG"
   },
   "outputs": [],
   "source": [
    "# passtags = {'Noun', 'Verb', 'Adjective', 'Adverb'}\n",
    "# tokenizer = Postprocessor(base_tagger=twitter, passtags=passtags)\n",
    "tokenizer = Postprocessor(base_tagger=twitter) # 품사 필터링 OFF"
   ]
  },
  {
   "cell_type": "markdown",
   "metadata": {
    "id": "jvgf_N52zVKi"
   },
   "source": [
    "## 글로우픽 데이터 불러오기"
   ]
  },
  {
   "cell_type": "code",
   "execution_count": null,
   "metadata": {
    "id": "XSsrmp6ZWtOY"
   },
   "outputs": [],
   "source": [
    "with open('/content/drive/MyDrive/colab/train_prepro.json', 'r', encoding='utf-8') as f:\n",
    "    total_train = json.load(f, strict=False)\n",
    "total_train = pd.DataFrame(total_train)\n",
    "total_train = total_train.sample(frac=1).reset_index(drop=True)\n",
    "total_train['label'] = total_train['label'].astype(float)\n",
    "total_train['label'] = total_train['label'].astype(int)"
   ]
  },
  {
   "cell_type": "code",
   "execution_count": null,
   "metadata": {
    "id": "-_DVgMbOh8jp"
   },
   "outputs": [],
   "source": [
    "glow_test = total_train[20000:23000]"
   ]
  },
  {
   "cell_type": "code",
   "execution_count": null,
   "metadata": {
    "id": "ejNk4xKihbEi"
   },
   "outputs": [],
   "source": [
    "total_train = total_train[:16055]  # train data 10000개만 사용"
   ]
  },
  {
   "cell_type": "code",
   "execution_count": null,
   "metadata": {
    "colab": {
     "base_uri": "https://localhost:8080/"
    },
    "executionInfo": {
     "elapsed": 12,
     "status": "ok",
     "timestamp": 1636957277851,
     "user": {
      "displayName": "한주희",
      "photoUrl": "https://lh3.googleusercontent.com/a/default-user=s64",
      "userId": "05637717147320400588"
     },
     "user_tz": -540
    },
    "id": "AIspnF2bL9Oj",
    "outputId": "9a6b6127-6764-4f2e-dc0c-17cdb2a55493"
   },
   "outputs": [
    {
     "data": {
      "text/plain": [
       "1    16055\n",
       "Name: label, dtype: int64"
      ]
     },
     "execution_count": 290,
     "metadata": {},
     "output_type": "execute_result"
    }
   ],
   "source": [
    "total_train['label'].value_counts()"
   ]
  },
  {
   "cell_type": "code",
   "execution_count": null,
   "metadata": {
    "id": "3ZNfgl0Phava"
   },
   "outputs": [],
   "source": []
  },
  {
   "cell_type": "markdown",
   "metadata": {
    "id": "wvGAkjS5-G6-"
   },
   "source": [
    "## 다른 플랫폼 데이터 불러오기 (인스타그램, 유튜브, 파우더룸, 블로그)"
   ]
  },
  {
   "cell_type": "code",
   "execution_count": null,
   "metadata": {
    "id": "oXvpsxa1WX9i"
   },
   "outputs": [],
   "source": [
    "with open('/content/drive/MyDrive/colab/test_prepro.json', 'r', encoding='utf-8') as f:\n",
    "    total_test = json.load(f, strict=False)\n",
    "total_test = pd.DataFrame(total_test)\n",
    "total_test = total_test.sample(frac=1).reset_index(drop=True)\n",
    "total_test['label'] = total_test['label'].astype(float)\n",
    "total_test['label'] = total_test['label'].astype(int)"
   ]
  },
  {
   "cell_type": "code",
   "execution_count": null,
   "metadata": {
    "id": "OdcwETJa7bEZ"
   },
   "outputs": [],
   "source": [
    "total_test.loc[(total_test['label']==0),'label'] = -1"
   ]
  },
  {
   "cell_type": "code",
   "execution_count": null,
   "metadata": {
    "id": "WEwv07ZQFUhB"
   },
   "outputs": [],
   "source": [
    "# total_test_pos = total_test[total_test['label'] == 1.]\n",
    "# total_test_neg = total_test[total_test['label'] == -1.]"
   ]
  },
  {
   "cell_type": "code",
   "execution_count": null,
   "metadata": {
    "id": "QbpxUUcCGcZV"
   },
   "outputs": [],
   "source": [
    "# train_pos_sampled = total_train.sample(frac=0.035)\n",
    "# train_pos_remain = total_train.drop(train_pos_sampled.index)\n",
    "# test_pos_sampled = total_test_pos.sample(frac=0.5)\n",
    "# test_pos_remain = total_test_pos.drop(test_pos_sampled.index)"
   ]
  },
  {
   "cell_type": "code",
   "execution_count": null,
   "metadata": {
    "id": "qUtdJ_NaJiuV"
   },
   "outputs": [],
   "source": [
    "# total_train  = pd.concat([total_train, test_pos_sampled], axis=0).reset_index(drop=True)\n",
    "# # total_train  = pd.concat([train_pos_remain, test_pos_sampled], axis=0).reset_index(drop=True) # \n",
    "# # total_test  = pd.concat([test_pos_remain, train_pos_sampled, total_test_neg], axis=0).reset_index(drop=True) # 테스트 데이터에 글로우픽 데이터를 포함.\n",
    "# total_test  = pd.concat([test_pos_remain, total_test_neg], axis=0).reset_index(drop=True) # 테스트 데이터에 글로우픽 데이터를 포함하지 않음."
   ]
  },
  {
   "cell_type": "code",
   "execution_count": null,
   "metadata": {
    "id": "-KhNZbO2RQNK"
   },
   "outputs": [],
   "source": [
    "total_test = total_test.sort_values('label',ascending=False)"
   ]
  },
  {
   "cell_type": "code",
   "execution_count": null,
   "metadata": {
    "id": "IAIAB2qSRcPC"
   },
   "outputs": [],
   "source": [
    "other_train = total_test[:3945]"
   ]
  },
  {
   "cell_type": "code",
   "execution_count": null,
   "metadata": {
    "id": "pPIqvLavRmfR"
   },
   "outputs": [],
   "source": [
    "other_test = total_test[3945:]"
   ]
  },
  {
   "cell_type": "code",
   "execution_count": null,
   "metadata": {
    "id": "Jr2KMRAIRwVB"
   },
   "outputs": [],
   "source": [
    "total_train = pd.concat([total_train, other_train])"
   ]
  },
  {
   "cell_type": "code",
   "execution_count": null,
   "metadata": {
    "id": "GTzGJffsRo1h"
   },
   "outputs": [],
   "source": [
    "total_train = total_train.sample(frac=1)\n",
    "total_test = other_test.sample(frac=1)"
   ]
  },
  {
   "cell_type": "code",
   "execution_count": null,
   "metadata": {
    "colab": {
     "base_uri": "https://localhost:8080/"
    },
    "executionInfo": {
     "elapsed": 9,
     "status": "ok",
     "timestamp": 1636957295715,
     "user": {
      "displayName": "한주희",
      "photoUrl": "https://lh3.googleusercontent.com/a/default-user=s64",
      "userId": "05637717147320400588"
     },
     "user_tz": -540
    },
    "id": "-08i10l2LgH1",
    "outputId": "04355dda-190a-43ba-a365-d2498cf358be"
   },
   "outputs": [
    {
     "name": "stdout",
     "output_type": "stream",
     "text": [
      "1    20000\n",
      "Name: label, dtype: int64\n",
      "-1    3152\n",
      "Name: label, dtype: int64\n"
     ]
    }
   ],
   "source": [
    "print(total_train['label'].value_counts())\n",
    "print(total_test['label'].value_counts())"
   ]
  },
  {
   "cell_type": "code",
   "execution_count": null,
   "metadata": {
    "id": "KEthV_Ts0tCG"
   },
   "outputs": [],
   "source": [
    "train_text = total_train['text'].tolist()\n",
    "train_labels = total_train['label'].tolist()\n",
    "test_text = total_test['text'].tolist()\n",
    "test_labels = total_test['label'].tolist()"
   ]
  },
  {
   "cell_type": "code",
   "execution_count": null,
   "metadata": {
    "id": "VhCFpeHiIoWX"
   },
   "outputs": [],
   "source": [
    "X = total_train['text']\n",
    "y = total_train['label']"
   ]
  },
  {
   "cell_type": "code",
   "execution_count": null,
   "metadata": {
    "id": "EqJykS4_PMdV"
   },
   "outputs": [],
   "source": [
    "stopwords=['의','가','이','은','들','는','좀','잘','걍','과','도','를','으로',\n",
    "           '자','에','와','한','하다','그리고','넘','네','을','랑','예요','오','여서','이에요','데',\n",
    "           '에게','에서','라서','이라서','에요','와','만','나','로','이랑','내','엔','아','부터','수',\n",
    "           '때','거','다','이다','이나','에도','것','고','게','인데','제','까지','에는','엔','이라'\n",
    "          '약간','오늘','점','없이','자꾸','알','있','다니','또','어','딱','걍','더','중','니','저','면','듯']"
   ]
  },
  {
   "cell_type": "code",
   "execution_count": null,
   "metadata": {
    "id": "Il4y1Tnr0s9y"
   },
   "outputs": [],
   "source": [
    "def tokenize_text(sample) :\n",
    "    tokenized_corpus = []\n",
    "    for sentence in sample:\n",
    "        tmp = [i[0] for i in  tokenizer.pos(sentence)  if not i[0] in stopwords] \n",
    "        tokenized_corpus .append(' '.join(tmp))\n",
    "    return tokenized_corpus"
   ]
  },
  {
   "cell_type": "code",
   "execution_count": null,
   "metadata": {
    "id": "kt77b27Carei"
   },
   "outputs": [],
   "source": [
    "train_corp =tokenize_text(train_text)\n",
    "test_corp = tokenize_text(test_text)"
   ]
  },
  {
   "cell_type": "code",
   "execution_count": null,
   "metadata": {
    "colab": {
     "base_uri": "https://localhost:8080/"
    },
    "executionInfo": {
     "elapsed": 39,
     "status": "ok",
     "timestamp": 1636957403658,
     "user": {
      "displayName": "한주희",
      "photoUrl": "https://lh3.googleusercontent.com/a/default-user=s64",
      "userId": "05637717147320400588"
     },
     "user_tz": -540
    },
    "id": "h4plkj7JSP--",
    "outputId": "964b0dc1-0728-447a-ef3c-232e9705ab39"
   },
   "outputs": [
    {
     "name": "stdout",
     "output_type": "stream",
     "text": [
      "19991\n",
      "19991\n"
     ]
    }
   ],
   "source": [
    "drop_train = [idx for idx, sentence in enumerate(train_corp) if len(sentence) < 1]\n",
    "X_train = np.delete(train_corp, drop_train, axis=0)\n",
    "y_train = np.delete(train_labels, drop_train, axis=0)\n",
    "y_train\n",
    "print(len(X_train))\n",
    "print(len(y_train))"
   ]
  },
  {
   "cell_type": "code",
   "execution_count": null,
   "metadata": {
    "colab": {
     "base_uri": "https://localhost:8080/"
    },
    "executionInfo": {
     "elapsed": 9,
     "status": "ok",
     "timestamp": 1636957403659,
     "user": {
      "displayName": "한주희",
      "photoUrl": "https://lh3.googleusercontent.com/a/default-user=s64",
      "userId": "05637717147320400588"
     },
     "user_tz": -540
    },
    "id": "pQPOGn6jSYVN",
    "outputId": "0e328e29-47c4-4d81-e3f4-ff7ffe28749a"
   },
   "outputs": [
    {
     "name": "stdout",
     "output_type": "stream",
     "text": [
      "3148\n",
      "3148\n"
     ]
    }
   ],
   "source": [
    "drop_test = [idx for idx, sentence in enumerate(test_corp) if len(sentence) < 1]\n",
    "X_test = np.delete(test_corp, drop_test, axis=0)\n",
    "y_test = np.delete(test_labels, drop_test, axis=0)\n",
    "print(len(X_test))\n",
    "print(len(y_test))"
   ]
  },
  {
   "cell_type": "code",
   "execution_count": null,
   "metadata": {
    "id": "gT1A65uKk3r4"
   },
   "outputs": [],
   "source": []
  },
  {
   "cell_type": "code",
   "execution_count": null,
   "metadata": {
    "id": "vCsLdr_9DpDt"
   },
   "outputs": [],
   "source": [
    "min_count = 5\n",
    "min_count_vectorizer = 4 # uni말고도 다른 토큰들의 최소 등장 횟수\n",
    "ngram_range = (1, 2)"
   ]
  },
  {
   "cell_type": "code",
   "execution_count": null,
   "metadata": {
    "id": "agratgXxDqti"
   },
   "outputs": [],
   "source": [
    "vectorizer = TfidfVectorizer(min_df=min_count,  ngram_range=ngram_range)\n",
    "emb = vectorizer.fit_transform(X_train)\n",
    "vocab = vectorizer.vocabulary_"
   ]
  },
  {
   "cell_type": "code",
   "execution_count": null,
   "metadata": {
    "id": "WZHdGNIBFzyW"
   },
   "outputs": [],
   "source": [
    "def ngram_emb(corpus, min_count_ngram, min_count_vectorizer, ngram_range, vocab):\n",
    "  new_vectorizer = TfidfVectorizer(min_df=min_count_vectorizer, vocabulary=vocab)\n",
    "  emb = new_vectorizer.fit_transform(corpus)\n",
    "  return emb"
   ]
  },
  {
   "cell_type": "code",
   "execution_count": null,
   "metadata": {
    "id": "HrBRaQmLHbDd"
   },
   "outputs": [],
   "source": [
    "train_matrix = emb\n",
    "test_matrix = ngram_emb(X_test,min_count, min_count_vectorizer, ngram_range, vocab)"
   ]
  },
  {
   "cell_type": "code",
   "execution_count": null,
   "metadata": {
    "colab": {
     "base_uri": "https://localhost:8080/"
    },
    "executionInfo": {
     "elapsed": 325,
     "status": "ok",
     "timestamp": 1636355328220,
     "user": {
      "displayName": "한주희",
      "photoUrl": "https://lh3.googleusercontent.com/a/default-user=s64",
      "userId": "05637717147320400588"
     },
     "user_tz": -540
    },
    "id": "2WTRKbYfc-uO",
    "outputId": "439d1b39-51a4-4191-fbc5-61fcae12d904"
   },
   "outputs": [
    {
     "name": "stdout",
     "output_type": "stream",
     "text": [
      "(32389, 31729)\n",
      "(5076, 31729)\n"
     ]
    }
   ],
   "source": [
    "print(train_matrix.shape)\n",
    "print(test_matrix.shape)"
   ]
  },
  {
   "cell_type": "code",
   "execution_count": null,
   "metadata": {
    "colab": {
     "base_uri": "https://localhost:8080/"
    },
    "executionInfo": {
     "elapsed": 340,
     "status": "ok",
     "timestamp": 1636958124162,
     "user": {
      "displayName": "한주희",
      "photoUrl": "https://lh3.googleusercontent.com/a/default-user=s64",
      "userId": "05637717147320400588"
     },
     "user_tz": -540
    },
    "id": "621LGT9QXJ77",
    "outputId": "f90e794f-0ac0-4e19-bf29-d8c75edf00e4"
   },
   "outputs": [
    {
     "name": "stdout",
     "output_type": "stream",
     "text": [
      "(19991, 29409)\n",
      "(3148, 29409)\n"
     ]
    }
   ],
   "source": [
    "print(train_matrix.shape)\n",
    "print(test_matrix.shape)"
   ]
  },
  {
   "cell_type": "code",
   "execution_count": null,
   "metadata": {
    "id": "mE-XrUgmkTwz"
   },
   "outputs": [],
   "source": [
    "def tfidfmatrix(corpus):\n",
    "    vector = CountVectorizer(decode_error=\"replace\")\n",
    "    train_matrix = vector.fit_transform(train_corp)\n",
    "    pickle.dump(vector.vocabulary_,open(\"feature.pkl\",\"wb\"))\n",
    "\n",
    "    transformer = TfidfTransformer()\n",
    "    loaded_vec = CountVectorizer(decode_error=\"replace\",vocabulary=pickle.load(open(\"feature.pkl\", \"rb\")))\n",
    "    tfidf = transformer.fit_transform(loaded_vec.fit_transform(np.array(corpus)))\n",
    "\n",
    "    return tfidf"
   ]
  },
  {
   "cell_type": "code",
   "execution_count": null,
   "metadata": {
    "id": "Ywt0RtHlTLpV"
   },
   "outputs": [],
   "source": [
    "# vector = CountVectorizer(decode_error=\"replace\")\n",
    "# total_matrix = vector.fit_transform(train_corp)\n",
    "# pickle.dump(vector.vocabulary_,open(\"/content/drive/MyDrive/colab/feature.pkl\",\"wb\"))"
   ]
  },
  {
   "cell_type": "code",
   "execution_count": null,
   "metadata": {
    "colab": {
     "base_uri": "https://localhost:8080/",
     "height": 359
    },
    "executionInfo": {
     "elapsed": 2231,
     "status": "ok",
     "timestamp": 1635853317520,
     "user": {
      "displayName": "Jicheol Kang",
      "photoUrl": "https://lh3.googleusercontent.com/a/default-user=s64",
      "userId": "04636124994992343301"
     },
     "user_tz": -540
    },
    "id": "tLJhq8l4gVWW",
    "outputId": "19758cc3-f1cb-4340-c0c0-eafd9d311fc5"
   },
   "outputs": [
    {
     "data": {
      "text/html": [
       "<div>\n",
       "<style scoped>\n",
       "    .dataframe tbody tr th:only-of-type {\n",
       "        vertical-align: middle;\n",
       "    }\n",
       "\n",
       "    .dataframe tbody tr th {\n",
       "        vertical-align: top;\n",
       "    }\n",
       "\n",
       "    .dataframe thead th {\n",
       "        text-align: right;\n",
       "    }\n",
       "</style>\n",
       "<table border=\"1\" class=\"dataframe\">\n",
       "  <thead>\n",
       "    <tr style=\"text-align: right;\">\n",
       "      <th></th>\n",
       "      <th>가가</th>\n",
       "      <th>가게</th>\n",
       "      <th>가게 음영</th>\n",
       "      <th>가격</th>\n",
       "      <th>가격 가격</th>\n",
       "      <th>가격 가성비</th>\n",
       "      <th>가격 가지</th>\n",
       "      <th>가격 각하</th>\n",
       "      <th>가격 괜찮고</th>\n",
       "      <th>가격 괜찮은</th>\n",
       "    </tr>\n",
       "  </thead>\n",
       "  <tbody>\n",
       "    <tr>\n",
       "      <th>0</th>\n",
       "      <td>0.0</td>\n",
       "      <td>0.0</td>\n",
       "      <td>0.0</td>\n",
       "      <td>0.0</td>\n",
       "      <td>0.0</td>\n",
       "      <td>0.0</td>\n",
       "      <td>0.0</td>\n",
       "      <td>0.0</td>\n",
       "      <td>0.0</td>\n",
       "      <td>0.0</td>\n",
       "    </tr>\n",
       "    <tr>\n",
       "      <th>1</th>\n",
       "      <td>0.0</td>\n",
       "      <td>0.0</td>\n",
       "      <td>0.0</td>\n",
       "      <td>0.0</td>\n",
       "      <td>0.0</td>\n",
       "      <td>0.0</td>\n",
       "      <td>0.0</td>\n",
       "      <td>0.0</td>\n",
       "      <td>0.0</td>\n",
       "      <td>0.0</td>\n",
       "    </tr>\n",
       "    <tr>\n",
       "      <th>2</th>\n",
       "      <td>0.0</td>\n",
       "      <td>0.0</td>\n",
       "      <td>0.0</td>\n",
       "      <td>0.0</td>\n",
       "      <td>0.0</td>\n",
       "      <td>0.0</td>\n",
       "      <td>0.0</td>\n",
       "      <td>0.0</td>\n",
       "      <td>0.0</td>\n",
       "      <td>0.0</td>\n",
       "    </tr>\n",
       "    <tr>\n",
       "      <th>3</th>\n",
       "      <td>0.0</td>\n",
       "      <td>0.0</td>\n",
       "      <td>0.0</td>\n",
       "      <td>0.0</td>\n",
       "      <td>0.0</td>\n",
       "      <td>0.0</td>\n",
       "      <td>0.0</td>\n",
       "      <td>0.0</td>\n",
       "      <td>0.0</td>\n",
       "      <td>0.0</td>\n",
       "    </tr>\n",
       "    <tr>\n",
       "      <th>4</th>\n",
       "      <td>0.0</td>\n",
       "      <td>0.0</td>\n",
       "      <td>0.0</td>\n",
       "      <td>0.0</td>\n",
       "      <td>0.0</td>\n",
       "      <td>0.0</td>\n",
       "      <td>0.0</td>\n",
       "      <td>0.0</td>\n",
       "      <td>0.0</td>\n",
       "      <td>0.0</td>\n",
       "    </tr>\n",
       "    <tr>\n",
       "      <th>5</th>\n",
       "      <td>0.0</td>\n",
       "      <td>0.0</td>\n",
       "      <td>0.0</td>\n",
       "      <td>0.0</td>\n",
       "      <td>0.0</td>\n",
       "      <td>0.0</td>\n",
       "      <td>0.0</td>\n",
       "      <td>0.0</td>\n",
       "      <td>0.0</td>\n",
       "      <td>0.0</td>\n",
       "    </tr>\n",
       "    <tr>\n",
       "      <th>6</th>\n",
       "      <td>0.0</td>\n",
       "      <td>0.0</td>\n",
       "      <td>0.0</td>\n",
       "      <td>0.0</td>\n",
       "      <td>0.0</td>\n",
       "      <td>0.0</td>\n",
       "      <td>0.0</td>\n",
       "      <td>0.0</td>\n",
       "      <td>0.0</td>\n",
       "      <td>0.0</td>\n",
       "    </tr>\n",
       "    <tr>\n",
       "      <th>7</th>\n",
       "      <td>0.0</td>\n",
       "      <td>0.0</td>\n",
       "      <td>0.0</td>\n",
       "      <td>0.0</td>\n",
       "      <td>0.0</td>\n",
       "      <td>0.0</td>\n",
       "      <td>0.0</td>\n",
       "      <td>0.0</td>\n",
       "      <td>0.0</td>\n",
       "      <td>0.0</td>\n",
       "    </tr>\n",
       "    <tr>\n",
       "      <th>8</th>\n",
       "      <td>0.0</td>\n",
       "      <td>0.0</td>\n",
       "      <td>0.0</td>\n",
       "      <td>0.0</td>\n",
       "      <td>0.0</td>\n",
       "      <td>0.0</td>\n",
       "      <td>0.0</td>\n",
       "      <td>0.0</td>\n",
       "      <td>0.0</td>\n",
       "      <td>0.0</td>\n",
       "    </tr>\n",
       "    <tr>\n",
       "      <th>9</th>\n",
       "      <td>0.0</td>\n",
       "      <td>0.0</td>\n",
       "      <td>0.0</td>\n",
       "      <td>0.0</td>\n",
       "      <td>0.0</td>\n",
       "      <td>0.0</td>\n",
       "      <td>0.0</td>\n",
       "      <td>0.0</td>\n",
       "      <td>0.0</td>\n",
       "      <td>0.0</td>\n",
       "    </tr>\n",
       "  </tbody>\n",
       "</table>\n",
       "</div>"
      ],
      "text/plain": [
       "    가가   가게  가게 음영   가격  가격 가격  가격 가성비  가격 가지  가격 각하  가격 괜찮고  가격 괜찮은\n",
       "0  0.0  0.0    0.0  0.0    0.0     0.0    0.0    0.0     0.0     0.0\n",
       "1  0.0  0.0    0.0  0.0    0.0     0.0    0.0    0.0     0.0     0.0\n",
       "2  0.0  0.0    0.0  0.0    0.0     0.0    0.0    0.0     0.0     0.0\n",
       "3  0.0  0.0    0.0  0.0    0.0     0.0    0.0    0.0     0.0     0.0\n",
       "4  0.0  0.0    0.0  0.0    0.0     0.0    0.0    0.0     0.0     0.0\n",
       "5  0.0  0.0    0.0  0.0    0.0     0.0    0.0    0.0     0.0     0.0\n",
       "6  0.0  0.0    0.0  0.0    0.0     0.0    0.0    0.0     0.0     0.0\n",
       "7  0.0  0.0    0.0  0.0    0.0     0.0    0.0    0.0     0.0     0.0\n",
       "8  0.0  0.0    0.0  0.0    0.0     0.0    0.0    0.0     0.0     0.0\n",
       "9  0.0  0.0    0.0  0.0    0.0     0.0    0.0    0.0     0.0     0.0"
      ]
     },
     "execution_count": 159,
     "metadata": {},
     "output_type": "execute_result"
    }
   ],
   "source": [
    "# col_names = vectorizer.get_feature_names()\n",
    "# emb_df = pd.DataFrame(test_matrix.toarray(), columns=col_names); emb_df.iloc[:10, :10]"
   ]
  },
  {
   "cell_type": "markdown",
   "metadata": {
    "id": "OhYMwsOI9sno"
   },
   "source": [
    "## OneclassSVM "
   ]
  },
  {
   "cell_type": "code",
   "execution_count": null,
   "metadata": {
    "id": "EgRGF2ZSmWor"
   },
   "outputs": [],
   "source": [
    "gamma = 0.01\n",
    "nu = 0.15"
   ]
  },
  {
   "cell_type": "code",
   "execution_count": null,
   "metadata": {
    "id": "W4tL9NFzvace"
   },
   "outputs": [],
   "source": [
    "clf = OneClassSVM(kernel='linear', gamma=gamma ,nu=nu)"
   ]
  },
  {
   "cell_type": "code",
   "execution_count": null,
   "metadata": {
    "id": "govZ35wy_5r1"
   },
   "outputs": [],
   "source": [
    "clf.fit(train_matrix, y_train)\n",
    "y_pred_train = clf.predict(train_matrix)"
   ]
  },
  {
   "cell_type": "code",
   "execution_count": null,
   "metadata": {
    "id": "ENsrKSr9ewql"
   },
   "outputs": [],
   "source": [
    "y_test = y_test.astype(float)\n",
    "y_test = y_test.astype(int)\n",
    "y_pred_train = y_pred_train.astype(int)\n",
    "y_train = y_train.astype(float)\n",
    "y_train = y_train.astype(int)"
   ]
  },
  {
   "cell_type": "code",
   "execution_count": null,
   "metadata": {
    "colab": {
     "base_uri": "https://localhost:8080/"
    },
    "executionInfo": {
     "elapsed": 1781,
     "status": "ok",
     "timestamp": 1636956292264,
     "user": {
      "displayName": "한주희",
      "photoUrl": "https://lh3.googleusercontent.com/a/default-user=s64",
      "userId": "05637717147320400588"
     },
     "user_tz": -540
    },
    "id": "yFCIytis_5pZ",
    "outputId": "28ebe4a8-293d-432d-99c0-0835b16c88b2"
   },
   "outputs": [
    {
     "name": "stdout",
     "output_type": "stream",
     "text": [
      "train data (글로우픽 외 다른 플랫폼 데이터 ):\n",
      "1    3000\n",
      "Name: label, dtype: int64\n",
      "최종 train data:\n",
      "1    20000\n",
      "Name: label, dtype: int64\n",
      "최종 test data:\n",
      "-1    3152\n",
      " 1     945\n",
      "Name: label, dtype: int64\n",
      "Data shape: \n",
      "(19990, 29800)\n",
      "(4093, 29800)\n",
      "Settings: \n",
      "gamma:  0.01\n",
      "nu:  0.25\n",
      "Confusion Matrix :\n",
      "[[2524  624]\n",
      " [ 406  539]]\n",
      "Accuracy Score for train: 75.01 %\n",
      "Accuracy Score for test: 74.84 %\n",
      "              precision    recall  f1-score   support\n",
      "\n",
      "          -1       0.86      0.80      0.83      3148\n",
      "           1       0.46      0.57      0.51       945\n",
      "\n",
      "    accuracy                           0.75      4093\n",
      "   macro avg       0.66      0.69      0.67      4093\n",
      "weighted avg       0.77      0.75      0.76      4093\n",
      "\n"
     ]
    }
   ],
   "source": [
    "print('train data (글로우픽 외 다른 플랫폼 데이터 ):')\n",
    "print(other_train['label'].value_counts())\n",
    "print('최종 train data:')\n",
    "print(total_train['label'].value_counts())\n",
    "print('최종 test data:')\n",
    "print(total_test['label'].value_counts())\n",
    "print('Data shape: ')\n",
    "print(train_matrix.shape)\n",
    "print(test_matrix.shape)\n",
    "print('Settings: ')\n",
    "# print('min_count: ', min_count)\n",
    "# print('ngram_range: ', ngram_range)\n",
    "print('gamma: ', gamma)\n",
    "print('nu: ', nu)\n",
    "y_pred_test = clf.predict(test_matrix)\n",
    "results = confusion_matrix(y_test, y_pred_test)\n",
    "print('Confusion Matrix :')\n",
    "print(results) \n",
    "print('Accuracy Score for train: {:.2f} %'.format(accuracy_score(y_train, y_pred_train)*100)) \n",
    "print('Accuracy Score for test: {:.2f} %'.format(accuracy_score(y_test, y_pred_test)*100)) \n",
    "print(classification_report(y_test, y_pred_test))"
   ]
  },
  {
   "cell_type": "markdown",
   "metadata": {
    "id": "1UkwBkrD9oj2"
   },
   "source": [
    "## 예측값 확인"
   ]
  },
  {
   "cell_type": "code",
   "execution_count": null,
   "metadata": {
    "id": "Vk1mffjN37qC"
   },
   "outputs": [],
   "source": [
    "i = 25\n",
    "j = 80"
   ]
  },
  {
   "cell_type": "code",
   "execution_count": null,
   "metadata": {
    "colab": {
     "base_uri": "https://localhost:8080/"
    },
    "executionInfo": {
     "elapsed": 11,
     "status": "ok",
     "timestamp": 1636955828970,
     "user": {
      "displayName": "한주희",
      "photoUrl": "https://lh3.googleusercontent.com/a/default-user=s64",
      "userId": "05637717147320400588"
     },
     "user_tz": -540
    },
    "id": "Q0Uf97fA_5nI",
    "outputId": "f89d90de-f4ff-44a2-ab6f-1dbabbcf1d5b"
   },
   "outputs": [
    {
     "name": "stdout",
     "output_type": "stream",
     "text": [
      "나사줘 로즈\n",
      "실제 label: 1\n",
      "예측 label: -1\n",
      "볼때마다 느끼지만 고소영님 닮으심\n",
      "실제 label: -1\n",
      "예측 label: -1\n"
     ]
    }
   ],
   "source": [
    "print(test_text[i])\n",
    "print('실제 label: {}'.format(test_labels[i]))\n",
    "print('예측 label: {}'.format(y_pred_test[i]))\n",
    "\n",
    "print(test_text[j])\n",
    "print('실제 label: {}'.format(test_labels[j]))\n",
    "print('예측 label: {}'.format(y_pred_test[j]))"
   ]
  },
  {
   "cell_type": "markdown",
   "metadata": {
    "id": "j9IkZR5aLKNu"
   },
   "source": [
    "### 모델 저장"
   ]
  },
  {
   "cell_type": "code",
   "execution_count": null,
   "metadata": {
    "id": "hytEb8lj4G6B"
   },
   "outputs": [],
   "source": [
    "pickle.dump(clf, open('/content/drive/MyDrive/colab/model_nu15.pkl','wb'))"
   ]
  },
  {
   "cell_type": "code",
   "execution_count": null,
   "metadata": {
    "id": "uFN4zDB1MF2B"
   },
   "outputs": [],
   "source": [
    "pickle.dump(clf, open('/content/drive/MyDrive/colab/model_nu2.pkl','wb'))"
   ]
  },
  {
   "cell_type": "code",
   "execution_count": null,
   "metadata": {
    "id": "j9_Bh3vvMFuc"
   },
   "outputs": [],
   "source": [
    "pickle.dump(clf, open('/content/drive/MyDrive/colab/model_nu25.pkl','wb'))"
   ]
  },
  {
   "cell_type": "markdown",
   "metadata": {
    "id": "_iFcg0WoLldY"
   },
   "source": [
    "### 모델 로드"
   ]
  },
  {
   "cell_type": "code",
   "execution_count": null,
   "metadata": {
    "id": "ogieg73ULkJi"
   },
   "outputs": [],
   "source": [
    "clf_loaded1 = pickle.load(open('/content/drive/MyDrive/colab/model_nu15.pkl', 'rb'))"
   ]
  },
  {
   "cell_type": "code",
   "execution_count": null,
   "metadata": {
    "id": "UsMO_ZUqMPxL"
   },
   "outputs": [],
   "source": [
    "clf_loaded2 = pickle.load(open('/content/drive/MyDrive/colab/model_nu2.pkl', 'rb'))"
   ]
  },
  {
   "cell_type": "code",
   "execution_count": null,
   "metadata": {
    "id": "cFvdiCs7MPqI"
   },
   "outputs": [],
   "source": [
    "clf_loaded3 = pickle.load(open('/content/drive/MyDrive/colab/model_nu25.pkl', 'rb'))"
   ]
  },
  {
   "cell_type": "code",
   "execution_count": null,
   "metadata": {
    "id": "73VJtbVk1ray"
   },
   "outputs": [],
   "source": [
    "y_pred_test_new1 = clf_loaded1.predict(test_matrix)"
   ]
  },
  {
   "cell_type": "code",
   "execution_count": null,
   "metadata": {
    "id": "lZP1XWKHNleR"
   },
   "outputs": [],
   "source": [
    "y_pred_test_new2 = clf_loaded2.predict(test_matrix)"
   ]
  },
  {
   "cell_type": "code",
   "execution_count": null,
   "metadata": {
    "id": "gjFd5NBTNlwd"
   },
   "outputs": [],
   "source": [
    "y_pred_test_new3 = clf_loaded3.predict(test_matrix)"
   ]
  },
  {
   "cell_type": "markdown",
   "metadata": {
    "id": "8i-BTZLXUa9q"
   },
   "source": [
    "#### 학습된 모델의 countvectorizer 결과와 차원 동일하게 맞춰주기 위한 함수 추가"
   ]
  },
  {
   "cell_type": "code",
   "execution_count": null,
   "metadata": {
    "id": "kTmqY_3rURA-"
   },
   "outputs": [],
   "source": [
    "def test_tfidfmatrix(corpus):\n",
    "    transformer = TfidfTransformer()\n",
    "    loaded_vec = CountVectorizer(decode_error=\"replace\",vocabulary=pickle.load(open(\"/content/drive/MyDrive/colab/feature.pkl\", \"rb\")))\n",
    "    tfidf = transformer.fit_transform(loaded_vec.fit_transform(np.array(corpus)))\n",
    "    return tfidf"
   ]
  },
  {
   "cell_type": "code",
   "execution_count": null,
   "metadata": {
    "id": "EihQoDm8UQ_C"
   },
   "outputs": [],
   "source": [
    "test_matrix = test_tfidfmatrix(X_test)"
   ]
  },
  {
   "cell_type": "markdown",
   "metadata": {
    "id": "GtRq1gtkNBuo"
   },
   "source": [
    "#### nu = 1.5 모델로 예측한 결과"
   ]
  },
  {
   "cell_type": "code",
   "execution_count": null,
   "metadata": {
    "colab": {
     "base_uri": "https://localhost:8080/"
    },
    "executionInfo": {
     "elapsed": 6,
     "status": "ok",
     "timestamp": 1636958141121,
     "user": {
      "displayName": "한주희",
      "photoUrl": "https://lh3.googleusercontent.com/a/default-user=s64",
      "userId": "05637717147320400588"
     },
     "user_tz": -540
    },
    "id": "HM9Q6Y_fLyLE",
    "outputId": "dc38ef45-fdd1-4b57-82c6-fc5150526e1e"
   },
   "outputs": [
    {
     "name": "stdout",
     "output_type": "stream",
     "text": [
      "1번째 예측값 : \n",
      "그쵸 뽀용뽀용 사랑\n",
      "-1\n",
      "2번째 예측값 : \n",
      "오늘도 재밌게 보고 갑니다  나중에 아오모리현의 스기사와 마을 괴담도 다뤄주실 수 있나요\n",
      "-1\n",
      "3번째 예측값 : \n",
      "내가 팔로하는사람이다 대박\n",
      "1\n",
      "4번째 예측값 : \n",
      "좋은 내용 잘 봤어요들렸다가요   저는 패션쪽 블로거에요\n",
      "-1\n",
      "5번째 예측값 : \n",
      "코덕 코덕맞팔 코덕소통 화장품추천 화장품\n",
      "-1\n",
      "6번째 예측값 : \n",
      "인호형님 화장품 좋은거 알려주셔서 감사합니다\n",
      "-1\n",
      "7번째 예측값 : \n",
      "안녕하세용  우와 포스팅 대박 잘보고가요 이제 월이네용  다가올 봄날도 기대되네용자주 소통하고 좋은 정보 서로 공유해요\n",
      "1\n",
      "8번째 예측값 : \n",
      "진짜 너무 공주공주 미쳤냐구용 전부터 꾸준히 본 사람으로써 루씨님 긴머리 머죠  진짜 너무 예쁘고 롬앤 신상 팔레트도 진짜 루씨님이랑 너무 찰떡이에용\n",
      "1\n",
      "9번째 예측값 : \n",
      "너무 기다렸던 컨실러 펜슬 영상\n",
      "1\n",
      "10번째 예측값 : \n",
      "정말루 솔직하게 작성하신 로블님늘 믿고봐유\n",
      "-1\n",
      "11번째 예측값 : \n",
      "와   메이크업 넘 제 스타일이에요   넘 잘어울리시고 넘 예뻐요\n",
      "1\n",
      "12번째 예측값 : \n",
      "오 야 존나 이쁜데\n",
      "-1\n",
      "13번째 예측값 : \n",
      "하 미쳨 다 미쳤다 어쩌지 어떻게 보냐구 아 떨려\n",
      "-1\n",
      "14번째 예측값 : \n",
      "좋은 정보 감사해용\n",
      "1\n",
      "15번째 예측값 : \n",
      "진짜 자기만의 스타일 찾고 그 스타일이 미치게 어울린다는게 너무 부럽다 그래서 사랑해요 언니\n",
      "1\n",
      "16번째 예측값 : \n",
      "와  재밌는 콜라보네요 엄청 흥미롭게 봤습니다\n",
      "-1\n",
      "17번째 예측값 : \n",
      "헐 바르다 김선생 저가 엄청 좋아하는 곳인데 로하님도 맛있게 드셨을지 모르겠어요   흐뭇하게 영상 처음부터 끝까지 봐버렸네요 건강한 출산 기원해요\n",
      "1\n",
      "18번째 예측값 : \n",
      "입술 너무 예뽀요\n",
      "1\n",
      "19번째 예측값 : \n",
      "김첨지의럭키데이 그쵸 아마 생소한 브랜드이실 수도 있어요 근데 전 되게 애정하는 브랜드입니당\n",
      "1\n",
      "20번째 예측값 : \n",
      "오오 궁금하네요\n",
      "-1\n",
      "21번째 예측값 : \n",
      "오 왕 편해보여요  커플룩 좋아하는 울 커플에게도 잘 어울릴듯 크크\n",
      "-1\n",
      "22번째 예측값 : \n",
      "이우님은 일상화보\n",
      "-1\n",
      "23번째 예측값 : \n",
      "립 미쳤어요  펜트하우스 잠깐 미뤄두고 알람보고 호다닥 뛰어 왔어요 뛰어온 보람이 있네요 쉐딩 하는 법 너무 커여워요\n",
      "1\n",
      "24번째 예측값 : \n",
      "힘내세요 잠깐 쉬어가시구 좋은 영상으로 만나용\n",
      "-1\n",
      "25번째 예측값 : \n",
      "와우   뷰스타 다운 멋진 이벤트네요   부럽습니다\n",
      "-1\n",
      "26번째 예측값 : \n",
      "얼굴이요하얗고이뻐요\n",
      "-1\n",
      "27번째 예측값 : \n",
      "글에 음성지원 기능 있는 것 같은데  말도안돼 호박고구마파는 화가네요 정정 부탁드려요\n",
      "-1\n",
      "28번째 예측값 : \n",
      "얼스타그램셀스타그램셀카셀피셀카스타그램셀스타맞팔하면선팔좋아요반사코덕코덕스타그램뷰티뷰티스타그램코덕맞팔\n",
      "-1\n",
      "29번째 예측값 : \n",
      "우아 원래이쁘셧는데더더더더이뻐지셧어요\n",
      "-1\n",
      "30번째 예측값 : \n",
      "반스미 전 쿨톤에에요\n",
      "-1\n",
      "31번째 예측값 : \n",
      "제 이정표인 아우라님 영상 항상 잘 보고갑니다\n",
      "1\n",
      "32번째 예측값 : \n",
      "아모레에서 개발한 유사세라마이드에 대해서도 알고싶어요\n",
      "-1\n",
      "33번째 예측값 : \n",
      "렌 너는 칼리버가 되기에 최적의 인간성이야\n",
      "-1\n",
      "34번째 예측값 : \n",
      "담스박스 신청 완료저도 담스님과 같이 년부터 쭉 사용하고 있는 아르마니 컨실러가 두루두루사용하기 안성 맞춤인것 같아요\n",
      "1\n",
      "35번째 예측값 : \n",
      "급 추워져서 넘 건조한데급 관심가네요\n",
      "-1\n",
      "36번째 예측값 : \n",
      "자연스런 피부표현 예뻐용\n",
      "1\n",
      "37번째 예측값 : \n",
      "영원의 치요 맞아요 전 컬러를 다 주다니  굿굿이였어요\n",
      "1\n",
      "38번째 예측값 : \n",
      "안녕하세요 요즘 피부 때문에 뒤집어지고 난리인데 이 영상보고 제 피부에도 희망이 있길 바라며    언니 혹시 턱쪽에도 좋은거 있을까요 턱에만 뾰루지가 막 나서   피부과 가도 그때 뿐이고 뾰루지 터진데는 울긋불긋하게 자국 나 있고  뾰루지자국 희미해지게 하는것도 피부과에서 돈이 왕창 깨지더라구요 진짜 턱\n",
      "1\n",
      "39번째 예측값 : \n",
      "주말에 봄 모시고 온답니다\n",
      "-1\n",
      "40번째 예측값 : \n",
      "입술이 너무 예뻐요\n",
      "1\n",
      "41번째 예측값 : \n",
      "어라라 영상이 없다\n",
      "-1\n",
      "42번째 예측값 : \n",
      "안녕하세요 오늘 하루 즐겁게 보내시구 자주자주 놀러올꼐용\n",
      "-1\n",
      "43번째 예측값 : \n",
      "요거 정말 많이쑤더라구용 좋은가봐용\n",
      "-1\n",
      "44번째 예측값 : \n",
      "넘 이뿐데\n",
      "-1\n",
      "45번째 예측값 : \n",
      "클리오솔캉님 꿀피부진리\n",
      "-1\n",
      "46번째 예측값 : \n",
      "엌 저도 환장했지뭐에요\n",
      "-1\n",
      "47번째 예측값 : \n",
      "혹시 무지개 섀도우는 뭐쓰신건가염\n",
      "-1\n",
      "48번째 예측값 : \n",
      "선택한거후회하게최선다해서이겨주세요응원합니다해성가수님\n",
      "-1\n",
      "49번째 예측값 : \n",
      "쟈기야 이거 예쁘다\n",
      "-1\n",
      "50번째 예측값 : \n",
      "저도 항상 선물이 고민이예요잘썼으면 좋겠고 의미도 있었으면 좋겠고하지만 친해도 잘모르겠더라구요   그래서 요즘에는 필요한거하라고 현금으로 주는 편이예요\n",
      "1\n"
     ]
    }
   ],
   "source": [
    "for i in range(50):\n",
    "  print('{}번째 예측값 : '.format(i+1))\n",
    "  print(test_text[i])\n",
    "  print(y_pred_test_new1[i])"
   ]
  },
  {
   "cell_type": "markdown",
   "metadata": {
    "id": "mSn4UnJ0NMNX"
   },
   "source": [
    "#### nu = 2 인 모델로 예측한 결과"
   ]
  },
  {
   "cell_type": "code",
   "execution_count": null,
   "metadata": {
    "colab": {
     "base_uri": "https://localhost:8080/"
    },
    "executionInfo": {
     "elapsed": 506,
     "status": "ok",
     "timestamp": 1636958142995,
     "user": {
      "displayName": "한주희",
      "photoUrl": "https://lh3.googleusercontent.com/a/default-user=s64",
      "userId": "05637717147320400588"
     },
     "user_tz": -540
    },
    "id": "PrETQpm1MT5v",
    "outputId": "b51eff0a-a547-431b-9531-d978c601c758"
   },
   "outputs": [
    {
     "name": "stdout",
     "output_type": "stream",
     "text": [
      "1번째 예측값 : \n",
      "그쵸 뽀용뽀용 사랑\n",
      "-1\n",
      "2번째 예측값 : \n",
      "오늘도 재밌게 보고 갑니다  나중에 아오모리현의 스기사와 마을 괴담도 다뤄주실 수 있나요\n",
      "-1\n",
      "3번째 예측값 : \n",
      "내가 팔로하는사람이다 대박\n",
      "1\n",
      "4번째 예측값 : \n",
      "좋은 내용 잘 봤어요들렸다가요   저는 패션쪽 블로거에요\n",
      "-1\n",
      "5번째 예측값 : \n",
      "코덕 코덕맞팔 코덕소통 화장품추천 화장품\n",
      "-1\n",
      "6번째 예측값 : \n",
      "인호형님 화장품 좋은거 알려주셔서 감사합니다\n",
      "-1\n",
      "7번째 예측값 : \n",
      "안녕하세용  우와 포스팅 대박 잘보고가요 이제 월이네용  다가올 봄날도 기대되네용자주 소통하고 좋은 정보 서로 공유해요\n",
      "1\n",
      "8번째 예측값 : \n",
      "진짜 너무 공주공주 미쳤냐구용 전부터 꾸준히 본 사람으로써 루씨님 긴머리 머죠  진짜 너무 예쁘고 롬앤 신상 팔레트도 진짜 루씨님이랑 너무 찰떡이에용\n",
      "1\n",
      "9번째 예측값 : \n",
      "너무 기다렸던 컨실러 펜슬 영상\n",
      "1\n",
      "10번째 예측값 : \n",
      "정말루 솔직하게 작성하신 로블님늘 믿고봐유\n",
      "-1\n",
      "11번째 예측값 : \n",
      "와   메이크업 넘 제 스타일이에요   넘 잘어울리시고 넘 예뻐요\n",
      "1\n",
      "12번째 예측값 : \n",
      "오 야 존나 이쁜데\n",
      "-1\n",
      "13번째 예측값 : \n",
      "하 미쳨 다 미쳤다 어쩌지 어떻게 보냐구 아 떨려\n",
      "-1\n",
      "14번째 예측값 : \n",
      "좋은 정보 감사해용\n",
      "-1\n",
      "15번째 예측값 : \n",
      "진짜 자기만의 스타일 찾고 그 스타일이 미치게 어울린다는게 너무 부럽다 그래서 사랑해요 언니\n",
      "1\n",
      "16번째 예측값 : \n",
      "와  재밌는 콜라보네요 엄청 흥미롭게 봤습니다\n",
      "-1\n",
      "17번째 예측값 : \n",
      "헐 바르다 김선생 저가 엄청 좋아하는 곳인데 로하님도 맛있게 드셨을지 모르겠어요   흐뭇하게 영상 처음부터 끝까지 봐버렸네요 건강한 출산 기원해요\n",
      "1\n",
      "18번째 예측값 : \n",
      "입술 너무 예뽀요\n",
      "1\n",
      "19번째 예측값 : \n",
      "김첨지의럭키데이 그쵸 아마 생소한 브랜드이실 수도 있어요 근데 전 되게 애정하는 브랜드입니당\n",
      "1\n",
      "20번째 예측값 : \n",
      "오오 궁금하네요\n",
      "-1\n",
      "21번째 예측값 : \n",
      "오 왕 편해보여요  커플룩 좋아하는 울 커플에게도 잘 어울릴듯 크크\n",
      "-1\n",
      "22번째 예측값 : \n",
      "이우님은 일상화보\n",
      "-1\n",
      "23번째 예측값 : \n",
      "립 미쳤어요  펜트하우스 잠깐 미뤄두고 알람보고 호다닥 뛰어 왔어요 뛰어온 보람이 있네요 쉐딩 하는 법 너무 커여워요\n",
      "1\n",
      "24번째 예측값 : \n",
      "힘내세요 잠깐 쉬어가시구 좋은 영상으로 만나용\n",
      "-1\n",
      "25번째 예측값 : \n",
      "와우   뷰스타 다운 멋진 이벤트네요   부럽습니다\n",
      "-1\n",
      "26번째 예측값 : \n",
      "얼굴이요하얗고이뻐요\n",
      "-1\n",
      "27번째 예측값 : \n",
      "글에 음성지원 기능 있는 것 같은데  말도안돼 호박고구마파는 화가네요 정정 부탁드려요\n",
      "-1\n",
      "28번째 예측값 : \n",
      "얼스타그램셀스타그램셀카셀피셀카스타그램셀스타맞팔하면선팔좋아요반사코덕코덕스타그램뷰티뷰티스타그램코덕맞팔\n",
      "-1\n",
      "29번째 예측값 : \n",
      "우아 원래이쁘셧는데더더더더이뻐지셧어요\n",
      "-1\n",
      "30번째 예측값 : \n",
      "반스미 전 쿨톤에에요\n",
      "-1\n",
      "31번째 예측값 : \n",
      "제 이정표인 아우라님 영상 항상 잘 보고갑니다\n",
      "-1\n",
      "32번째 예측값 : \n",
      "아모레에서 개발한 유사세라마이드에 대해서도 알고싶어요\n",
      "-1\n",
      "33번째 예측값 : \n",
      "렌 너는 칼리버가 되기에 최적의 인간성이야\n",
      "-1\n",
      "34번째 예측값 : \n",
      "담스박스 신청 완료저도 담스님과 같이 년부터 쭉 사용하고 있는 아르마니 컨실러가 두루두루사용하기 안성 맞춤인것 같아요\n",
      "1\n",
      "35번째 예측값 : \n",
      "급 추워져서 넘 건조한데급 관심가네요\n",
      "-1\n",
      "36번째 예측값 : \n",
      "자연스런 피부표현 예뻐용\n",
      "1\n",
      "37번째 예측값 : \n",
      "영원의 치요 맞아요 전 컬러를 다 주다니  굿굿이였어요\n",
      "1\n",
      "38번째 예측값 : \n",
      "안녕하세요 요즘 피부 때문에 뒤집어지고 난리인데 이 영상보고 제 피부에도 희망이 있길 바라며    언니 혹시 턱쪽에도 좋은거 있을까요 턱에만 뾰루지가 막 나서   피부과 가도 그때 뿐이고 뾰루지 터진데는 울긋불긋하게 자국 나 있고  뾰루지자국 희미해지게 하는것도 피부과에서 돈이 왕창 깨지더라구요 진짜 턱\n",
      "1\n",
      "39번째 예측값 : \n",
      "주말에 봄 모시고 온답니다\n",
      "-1\n",
      "40번째 예측값 : \n",
      "입술이 너무 예뻐요\n",
      "1\n",
      "41번째 예측값 : \n",
      "어라라 영상이 없다\n",
      "-1\n",
      "42번째 예측값 : \n",
      "안녕하세요 오늘 하루 즐겁게 보내시구 자주자주 놀러올꼐용\n",
      "-1\n",
      "43번째 예측값 : \n",
      "요거 정말 많이쑤더라구용 좋은가봐용\n",
      "-1\n",
      "44번째 예측값 : \n",
      "넘 이뿐데\n",
      "-1\n",
      "45번째 예측값 : \n",
      "클리오솔캉님 꿀피부진리\n",
      "-1\n",
      "46번째 예측값 : \n",
      "엌 저도 환장했지뭐에요\n",
      "-1\n",
      "47번째 예측값 : \n",
      "혹시 무지개 섀도우는 뭐쓰신건가염\n",
      "-1\n",
      "48번째 예측값 : \n",
      "선택한거후회하게최선다해서이겨주세요응원합니다해성가수님\n",
      "-1\n",
      "49번째 예측값 : \n",
      "쟈기야 이거 예쁘다\n",
      "-1\n",
      "50번째 예측값 : \n",
      "저도 항상 선물이 고민이예요잘썼으면 좋겠고 의미도 있었으면 좋겠고하지만 친해도 잘모르겠더라구요   그래서 요즘에는 필요한거하라고 현금으로 주는 편이예요\n",
      "1\n"
     ]
    }
   ],
   "source": [
    "for i in range(50):\n",
    "  print('{}번째 예측값 : '.format(i+1))\n",
    "  print(test_text[i])\n",
    "  print(y_pred_test_new2[i])"
   ]
  },
  {
   "cell_type": "markdown",
   "metadata": {
    "id": "Vvx9E1RDNv8k"
   },
   "source": [
    "#### nu = 2.5 인 모델로 예측한 결과"
   ]
  },
  {
   "cell_type": "code",
   "execution_count": null,
   "metadata": {
    "colab": {
     "base_uri": "https://localhost:8080/"
    },
    "executionInfo": {
     "elapsed": 7,
     "status": "ok",
     "timestamp": 1636958145066,
     "user": {
      "displayName": "한주희",
      "photoUrl": "https://lh3.googleusercontent.com/a/default-user=s64",
      "userId": "05637717147320400588"
     },
     "user_tz": -540
    },
    "id": "b4AIi3KSMTwC",
    "outputId": "8d442f43-e68d-477f-d85e-5973fb0b187e"
   },
   "outputs": [
    {
     "name": "stdout",
     "output_type": "stream",
     "text": [
      "1번째 예측값 : \n",
      "그쵸 뽀용뽀용 사랑\n",
      "-1\n",
      "2번째 예측값 : \n",
      "오늘도 재밌게 보고 갑니다  나중에 아오모리현의 스기사와 마을 괴담도 다뤄주실 수 있나요\n",
      "-1\n",
      "3번째 예측값 : \n",
      "내가 팔로하는사람이다 대박\n",
      "1\n",
      "4번째 예측값 : \n",
      "좋은 내용 잘 봤어요들렸다가요   저는 패션쪽 블로거에요\n",
      "-1\n",
      "5번째 예측값 : \n",
      "코덕 코덕맞팔 코덕소통 화장품추천 화장품\n",
      "-1\n",
      "6번째 예측값 : \n",
      "인호형님 화장품 좋은거 알려주셔서 감사합니다\n",
      "-1\n",
      "7번째 예측값 : \n",
      "안녕하세용  우와 포스팅 대박 잘보고가요 이제 월이네용  다가올 봄날도 기대되네용자주 소통하고 좋은 정보 서로 공유해요\n",
      "1\n",
      "8번째 예측값 : \n",
      "진짜 너무 공주공주 미쳤냐구용 전부터 꾸준히 본 사람으로써 루씨님 긴머리 머죠  진짜 너무 예쁘고 롬앤 신상 팔레트도 진짜 루씨님이랑 너무 찰떡이에용\n",
      "1\n",
      "9번째 예측값 : \n",
      "너무 기다렸던 컨실러 펜슬 영상\n",
      "1\n",
      "10번째 예측값 : \n",
      "정말루 솔직하게 작성하신 로블님늘 믿고봐유\n",
      "-1\n",
      "11번째 예측값 : \n",
      "와   메이크업 넘 제 스타일이에요   넘 잘어울리시고 넘 예뻐요\n",
      "1\n",
      "12번째 예측값 : \n",
      "오 야 존나 이쁜데\n",
      "-1\n",
      "13번째 예측값 : \n",
      "하 미쳨 다 미쳤다 어쩌지 어떻게 보냐구 아 떨려\n",
      "-1\n",
      "14번째 예측값 : \n",
      "좋은 정보 감사해용\n",
      "-1\n",
      "15번째 예측값 : \n",
      "진짜 자기만의 스타일 찾고 그 스타일이 미치게 어울린다는게 너무 부럽다 그래서 사랑해요 언니\n",
      "1\n",
      "16번째 예측값 : \n",
      "와  재밌는 콜라보네요 엄청 흥미롭게 봤습니다\n",
      "-1\n",
      "17번째 예측값 : \n",
      "헐 바르다 김선생 저가 엄청 좋아하는 곳인데 로하님도 맛있게 드셨을지 모르겠어요   흐뭇하게 영상 처음부터 끝까지 봐버렸네요 건강한 출산 기원해요\n",
      "-1\n",
      "18번째 예측값 : \n",
      "입술 너무 예뽀요\n",
      "1\n",
      "19번째 예측값 : \n",
      "김첨지의럭키데이 그쵸 아마 생소한 브랜드이실 수도 있어요 근데 전 되게 애정하는 브랜드입니당\n",
      "1\n",
      "20번째 예측값 : \n",
      "오오 궁금하네요\n",
      "-1\n",
      "21번째 예측값 : \n",
      "오 왕 편해보여요  커플룩 좋아하는 울 커플에게도 잘 어울릴듯 크크\n",
      "-1\n",
      "22번째 예측값 : \n",
      "이우님은 일상화보\n",
      "-1\n",
      "23번째 예측값 : \n",
      "립 미쳤어요  펜트하우스 잠깐 미뤄두고 알람보고 호다닥 뛰어 왔어요 뛰어온 보람이 있네요 쉐딩 하는 법 너무 커여워요\n",
      "1\n",
      "24번째 예측값 : \n",
      "힘내세요 잠깐 쉬어가시구 좋은 영상으로 만나용\n",
      "-1\n",
      "25번째 예측값 : \n",
      "와우   뷰스타 다운 멋진 이벤트네요   부럽습니다\n",
      "-1\n",
      "26번째 예측값 : \n",
      "얼굴이요하얗고이뻐요\n",
      "-1\n",
      "27번째 예측값 : \n",
      "글에 음성지원 기능 있는 것 같은데  말도안돼 호박고구마파는 화가네요 정정 부탁드려요\n",
      "-1\n",
      "28번째 예측값 : \n",
      "얼스타그램셀스타그램셀카셀피셀카스타그램셀스타맞팔하면선팔좋아요반사코덕코덕스타그램뷰티뷰티스타그램코덕맞팔\n",
      "-1\n",
      "29번째 예측값 : \n",
      "우아 원래이쁘셧는데더더더더이뻐지셧어요\n",
      "-1\n",
      "30번째 예측값 : \n",
      "반스미 전 쿨톤에에요\n",
      "-1\n",
      "31번째 예측값 : \n",
      "제 이정표인 아우라님 영상 항상 잘 보고갑니다\n",
      "-1\n",
      "32번째 예측값 : \n",
      "아모레에서 개발한 유사세라마이드에 대해서도 알고싶어요\n",
      "-1\n",
      "33번째 예측값 : \n",
      "렌 너는 칼리버가 되기에 최적의 인간성이야\n",
      "-1\n",
      "34번째 예측값 : \n",
      "담스박스 신청 완료저도 담스님과 같이 년부터 쭉 사용하고 있는 아르마니 컨실러가 두루두루사용하기 안성 맞춤인것 같아요\n",
      "1\n",
      "35번째 예측값 : \n",
      "급 추워져서 넘 건조한데급 관심가네요\n",
      "-1\n",
      "36번째 예측값 : \n",
      "자연스런 피부표현 예뻐용\n",
      "1\n",
      "37번째 예측값 : \n",
      "영원의 치요 맞아요 전 컬러를 다 주다니  굿굿이였어요\n",
      "1\n",
      "38번째 예측값 : \n",
      "안녕하세요 요즘 피부 때문에 뒤집어지고 난리인데 이 영상보고 제 피부에도 희망이 있길 바라며    언니 혹시 턱쪽에도 좋은거 있을까요 턱에만 뾰루지가 막 나서   피부과 가도 그때 뿐이고 뾰루지 터진데는 울긋불긋하게 자국 나 있고  뾰루지자국 희미해지게 하는것도 피부과에서 돈이 왕창 깨지더라구요 진짜 턱\n",
      "1\n",
      "39번째 예측값 : \n",
      "주말에 봄 모시고 온답니다\n",
      "-1\n",
      "40번째 예측값 : \n",
      "입술이 너무 예뻐요\n",
      "1\n",
      "41번째 예측값 : \n",
      "어라라 영상이 없다\n",
      "-1\n",
      "42번째 예측값 : \n",
      "안녕하세요 오늘 하루 즐겁게 보내시구 자주자주 놀러올꼐용\n",
      "-1\n",
      "43번째 예측값 : \n",
      "요거 정말 많이쑤더라구용 좋은가봐용\n",
      "-1\n",
      "44번째 예측값 : \n",
      "넘 이뿐데\n",
      "-1\n",
      "45번째 예측값 : \n",
      "클리오솔캉님 꿀피부진리\n",
      "-1\n",
      "46번째 예측값 : \n",
      "엌 저도 환장했지뭐에요\n",
      "-1\n",
      "47번째 예측값 : \n",
      "혹시 무지개 섀도우는 뭐쓰신건가염\n",
      "-1\n",
      "48번째 예측값 : \n",
      "선택한거후회하게최선다해서이겨주세요응원합니다해성가수님\n",
      "-1\n",
      "49번째 예측값 : \n",
      "쟈기야 이거 예쁘다\n",
      "-1\n",
      "50번째 예측값 : \n",
      "저도 항상 선물이 고민이예요잘썼으면 좋겠고 의미도 있었으면 좋겠고하지만 친해도 잘모르겠더라구요   그래서 요즘에는 필요한거하라고 현금으로 주는 편이예요\n",
      "-1\n"
     ]
    }
   ],
   "source": [
    "for i in range(50):\n",
    "  print('{}번째 예측값 : '.format(i+1))\n",
    "  print(test_text[i])\n",
    "  print(y_pred_test_new3[i])"
   ]
  },
  {
   "cell_type": "code",
   "execution_count": null,
   "metadata": {
    "id": "vZN6kjLiTwf4"
   },
   "outputs": [],
   "source": []
  }
 ],
 "metadata": {
  "colab": {
   "collapsed_sections": [],
   "name": "oneclasssvm_new_data.ipynb",
   "provenance": []
  },
  "kernelspec": {
   "display_name": "Python 3",
   "language": "python",
   "name": "python3"
  },
  "language_info": {
   "codemirror_mode": {
    "name": "ipython",
    "version": 3
   },
   "file_extension": ".py",
   "mimetype": "text/x-python",
   "name": "python",
   "nbconvert_exporter": "python",
   "pygments_lexer": "ipython3",
   "version": "3.8.3"
  }
 },
 "nbformat": 4,
 "nbformat_minor": 4
}
